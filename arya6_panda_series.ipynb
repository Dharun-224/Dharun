{
  "nbformat": 4,
  "nbformat_minor": 0,
  "metadata": {
    "colab": {
      "provenance": []
    },
    "kernelspec": {
      "name": "python3",
      "display_name": "Python 3"
    },
    "language_info": {
      "name": "python"
    }
  },
  "cells": [
    {
      "cell_type": "code",
      "execution_count": 6,
      "metadata": {
        "id": "FQoO8bc6iwYU",
        "colab": {
          "base_uri": "https://localhost:8080/"
        },
        "outputId": "a40ca307-7d47-42fd-97ec-9a63110c7a88"
      },
      "outputs": [
        {
          "output_type": "stream",
          "name": "stdout",
          "text": [
            "0    a\n",
            "1    r\n",
            "2    y\n",
            "3    a\n",
            "dtype: object\n"
          ]
        }
      ],
      "source": [
        "import pandas as pd\n",
        "import numpy as np\n",
        "arr=np.array(['a','r','y','a'])\n",
        "a=pd.Series(arr)\n",
        "print(a)"
      ]
    },
    {
      "cell_type": "code",
      "source": [
        "import pandas as pd\n",
        "import numpy as np\n",
        "arr={'a':0,'r':1,'y':2}\n",
        "a=pd.Series(arr)\n",
        "print(a)"
      ],
      "metadata": {
        "colab": {
          "base_uri": "https://localhost:8080/"
        },
        "id": "XgG82Hgiw7ti",
        "outputId": "1cd6f6c8-4386-45d3-a27a-8cac94a5f159"
      },
      "execution_count": 21,
      "outputs": [
        {
          "output_type": "stream",
          "name": "stdout",
          "text": [
            "a    0\n",
            "r    1\n",
            "y    2\n",
            "dtype: int64\n"
          ]
        }
      ]
    },
    {
      "cell_type": "code",
      "source": [
        "import pandas as pd\n",
        "import numpy as np\n",
        "x=pd.Series(4,index=[0,1,2,3])\n",
        "print(x)"
      ],
      "metadata": {
        "colab": {
          "base_uri": "https://localhost:8080/"
        },
        "id": "Gl5nmxkTyRw_",
        "outputId": "3ece5b9f-b37f-4744-df6c-b2626a155715"
      },
      "execution_count": 18,
      "outputs": [
        {
          "output_type": "stream",
          "name": "stdout",
          "text": [
            "0    4\n",
            "1    4\n",
            "2    4\n",
            "3    4\n",
            "dtype: int64\n"
          ]
        }
      ]
    },
    {
      "cell_type": "code",
      "source": [
        "import pandas as pd\n",
        "import numpy as np\n",
        "arr=np.array(['a','r','y','a'])\n",
        "x=pd.Series(arr)\n",
        "print(x.values)\n",
        "print(x.shape)\n",
        "print(x.ndim)\n",
        "print(x.size)\n",
        "print(x.index)"
      ],
      "metadata": {
        "colab": {
          "base_uri": "https://localhost:8080/"
        },
        "id": "JpXF-8i_y66Z",
        "outputId": "fce5eeb6-8674-4fed-8951-1ec048377490"
      },
      "execution_count": 29,
      "outputs": [
        {
          "output_type": "stream",
          "name": "stdout",
          "text": [
            "['a' 'r' 'y' 'a']\n",
            "(4,)\n",
            "1\n",
            "4\n",
            "RangeIndex(start=0, stop=4, step=1)\n"
          ]
        }
      ]
    }
  ]
}