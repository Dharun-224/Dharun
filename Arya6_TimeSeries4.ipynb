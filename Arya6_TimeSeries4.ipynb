{
 "cells": [
  {
   "cell_type": "code",
   "execution_count": 1,
   "id": "a3cfdb64",
   "metadata": {},
   "outputs": [
    {
     "name": "stdout",
     "output_type": "stream",
     "text": [
      "With this date object, create a series with datetime index:\n",
      " 2020-01-05   -0.130209\n",
      "2020-01-10    1.324328\n",
      "2020-01-15    2.495568\n",
      "2020-01-20   -0.092566\n",
      "2020-01-25    0.579301\n",
      "dtype: float64\n"
     ]
    }
   ],
   "source": [
    "import pandas as pd\n",
    "import numpy as np\n",
    "from datetime import datetime\n",
    "\n",
    "dates = [datetime(2020, 1, 5),\n",
    "         datetime(2020, 1, 10),\n",
    "         datetime(2020, 1, 15),\n",
    "         datetime(2020, 1, 20),\n",
    "         datetime(2020, 1, 25)]\n",
    "\n",
    "ts = pd.Series(np.random.randn(5), index=dates)\n",
    "print(\"With this date object, create a series with datetime index:\\n\", ts)"
   ]
  },
  {
   "cell_type": "code",
   "execution_count": 4,
   "id": "d1a1037b",
   "metadata": {},
   "outputs": [
    {
     "name": "stdout",
     "output_type": "stream",
     "text": [
      "Truncate method to truncate datetime series \n",
      " 2020-01-05   -0.130209\n",
      "2020-01-10    1.324328\n",
      "2020-01-15    2.495568\n",
      "dtype: float64\n"
     ]
    }
   ],
   "source": [
    "res = ts.truncate(after=\"1/15/2020\")\n",
    "print(\"Truncate method to truncate datetime series \\n\", res)"
   ]
  },
  {
   "cell_type": "code",
   "execution_count": 5,
   "id": "8aaab8bd",
   "metadata": {},
   "outputs": [
    {
     "name": "stdout",
     "output_type": "stream",
     "text": [
      "Date range with day periods.\n",
      " DatetimeIndex(['2022-10-02', '2022-10-09', '2022-10-16', '2022-10-23',\n",
      "               '2022-10-30', '2022-11-06', '2022-11-13', '2022-11-20',\n",
      "               '2022-11-27', '2022-12-04'],\n",
      "              dtype='datetime64[ns]', freq='W-SUN')\n"
     ]
    }
   ],
   "source": [
    "da = pd.date_range(\"10/1/2022\", periods=10, freq=\"W-SUN\")\n",
    "print(\"Date range with day periods.\\n\", da)"
   ]
  },
  {
   "cell_type": "code",
   "execution_count": 6,
   "id": "c9ac46e1",
   "metadata": {},
   "outputs": [
    {
     "name": "stdout",
     "output_type": "stream",
     "text": [
      "Duplicate datetime index:\n",
      " 2020-01-01    0\n",
      "2020-01-02    1\n",
      "2020-01-02    2\n",
      "2020-01-02    3\n",
      "2020-01-03    4\n",
      "dtype: int64\n"
     ]
    }
   ],
   "source": [
    "date = pd.DatetimeIndex([\"1/1/2020\", \"1/2/2020\", \"1/2/2020\", \"1/2/2020\", \"1/3/2020\"])\n",
    "ts1 = pd.Series(np.arange(5), index=date)\n",
    "print(\"Duplicate datetime index:\\n\", ts1)"
   ]
  },
  {
   "cell_type": "code",
   "execution_count": 7,
   "id": "a86ab454",
   "metadata": {},
   "outputs": [
    {
     "name": "stdout",
     "output_type": "stream",
     "text": [
      "Repeated date counts:\n",
      " 2020-01-01    1\n",
      "2020-01-02    3\n",
      "2020-01-03    1\n",
      "dtype: int64\n"
     ]
    }
   ],
   "source": [
    "group = ts1.groupby(level=0)\n",
    "print(\"Repeated date counts:\\n\", group.count())"
   ]
  },
  {
   "cell_type": "code",
   "execution_count": 8,
   "id": "ceb55e38",
   "metadata": {},
   "outputs": [
    {
     "name": "stdout",
     "output_type": "stream",
     "text": [
      "Multi-column DataFrame with datetime index:\n",
      "                    A         B         C         D\n",
      "2022-10-02  0.528540  0.981004  0.483319 -1.055740\n",
      "2022-10-09  0.753233 -0.147978 -1.185289 -0.266140\n",
      "2022-10-16 -1.741947  1.266689  0.240982  0.220082\n",
      "2022-10-23  0.749134 -0.183847 -1.526274  0.540271\n",
      "2022-10-30  0.413776 -1.263949 -1.497883  0.522481\n",
      "2022-11-06 -0.762596  0.301759  2.529226 -0.828657\n",
      "2022-11-13 -0.321774  0.097327 -1.151860  0.255341\n",
      "2022-11-20 -0.582092  0.913993 -1.708504 -0.165998\n",
      "2022-11-27 -1.227595 -0.353491 -0.329090 -0.897631\n",
      "2022-12-04 -1.996551 -0.062409 -1.459585  0.699333\n"
     ]
    }
   ],
   "source": [
    "long_df = pd.DataFrame(np.random.randn(10, 4), index=da, columns=list(\"ABCD\"))\n",
    "print(\"Multi-column DataFrame with datetime index:\\n\", long_df)"
   ]
  }
 ],
 "metadata": {
  "kernelspec": {
   "display_name": "Python 3 (ipykernel)",
   "language": "python",
   "name": "python3"
  },
  "language_info": {
   "codemirror_mode": {
    "name": "ipython",
    "version": 3
   },
   "file_extension": ".py",
   "mimetype": "text/x-python",
   "name": "python",
   "nbconvert_exporter": "python",
   "pygments_lexer": "ipython3",
   "version": "3.11.5"
  }
 },
 "nbformat": 4,
 "nbformat_minor": 5
}
