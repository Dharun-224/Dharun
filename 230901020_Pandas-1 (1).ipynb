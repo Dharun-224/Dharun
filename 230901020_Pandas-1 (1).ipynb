{
 "cells": [
  {
   "cell_type": "code",
   "execution_count": null,
   "metadata": {
    "colab": {
     "base_uri": "https://localhost:8080/"
    },
    "id": "7uDPKQCAmm56",
    "outputId": "11abc310-bcc6-4e7f-a928-4dc041c57168"
   },
   "outputs": [
    {
     "name": "stdout",
     "output_type": "stream",
     "text": [
      "         EMP  ID\n",
      "0   Dharshan  80\n",
      "1     Sudeep  90\n",
      "2       Siva  28\n",
      "3       Yash  57\n",
      "4  Keerthana  49\n",
      "\n",
      " Extracting One column:\n",
      "\n",
      "0     Dharshan\n",
      "1       Sudeep\n",
      "2         Siva\n",
      "3         Yash\n",
      "4    Keerthana\n",
      "Name: EMP, dtype: object\n",
      "\n",
      " Adding new columns:\n",
      "\n",
      "         EMP  ID  Age\n",
      "0   Dharshan  80   28\n",
      "1     Sudeep  90   32\n",
      "2       Siva  28   47\n",
      "3       Yash  56   52\n",
      "4  Keerthana  70   61\n"
     ]
    }
   ],
   "source": [
    "import pandas as pd\n",
    "\n",
    "emp = pd.Series(['Dharshan','Sudeep','Siva','Yash','Keerthana'])\n",
    "id = pd.Series([80,90,28,57,49])\n",
    "\n",
    "# Correct way to create the DataFrame:\n",
    "frame = {'EMP': emp, 'ID': id}  # Create a dictionary\n",
    "result = pd.DataFrame(frame)\n",
    "\n",
    "print(result)\n",
    "print(\"\\n Extracting One column:\\n\")\n",
    "print(result['EMP'])\n",
    "print(\"\\n Adding new columns:\\n\")\n",
    "result['ID'] = pd.Series([80, 90, 28, 56, 70])\n",
    "result['Age'] = pd.Series([28, 32, 47, 52, 61])\n",
    "print(result)"
   ]
  },
  {
   "cell_type": "code",
   "execution_count": null,
   "metadata": {
    "colab": {
     "base_uri": "https://localhost:8080/"
    },
    "id": "1cUdtWSUrrfJ",
    "outputId": "14c1fcbd-8688-4d26-d011-f4fc47da033b"
   },
   "outputs": [
    {
     "name": "stdout",
     "output_type": "stream",
     "text": [
      "\n",
      " Deleting new column: \n",
      "\n",
      "         EMP  ID\n",
      "0   Dharshan  80\n",
      "1     Sudeep  90\n",
      "2       Siva  28\n",
      "3       Yash  56\n",
      "4  Keerthana  70\n"
     ]
    }
   ],
   "source": [
    "print(\"\\n Deleting new column: \\n\")\n",
    "del result['Age']\n",
    "print(result)"
   ]
  },
  {
   "cell_type": "code",
   "execution_count": null,
   "metadata": {
    "colab": {
     "base_uri": "https://localhost:8080/"
    },
    "id": "aKlEhGpEopb2",
    "outputId": "80da531e-8d6a-4b33-d970-0339fff71354"
   },
   "outputs": [
    {
     "name": "stdout",
     "output_type": "stream",
     "text": [
      "\n",
      " Extracting the second row: \n",
      "\n",
      "EMP    Sudeep\n",
      "ID         90\n",
      "Name: 1, dtype: object\n",
      "slice rows:\n",
      "       EMP  ID\n",
      "1  Sudeep  90\n",
      "2    Siva  28\n",
      "3    Yash  56\n"
     ]
    }
   ],
   "source": [
    "print(\"\\n Extracting the second row: \\n\")\n",
    "print(result.iloc[1])\n",
    "print(\"slice rows:\\n\", result[1:4] )"
   ]
  },
  {
   "cell_type": "code",
   "execution_count": null,
   "metadata": {
    "colab": {
     "base_uri": "https://localhost:8080/"
    },
    "id": "Aub1_HDeuCG5",
    "outputId": "3636700f-4305-461a-cd58-f89f4d89985a"
   },
   "outputs": [
    {
     "name": "stdout",
     "output_type": "stream",
     "text": [
      "\n",
      " Adding new row values:\n",
      "          EMP   ID     Emp\n",
      "0   Dharshan   80     NaN\n",
      "1     Sudeep   90     NaN\n",
      "2       Siva   28     NaN\n",
      "3       Yash   56     NaN\n",
      "4  Keerthana   70     NaN\n",
      "5        NaN  100   Vicky\n",
      "6        NaN  110  Rashid\n"
     ]
    }
   ],
   "source": [
    "d2 = pd.DataFrame([['Vicky', 100], ['Rashid', 110]], columns=['Emp', 'ID'])  # Corrected DataFrame creation\n",
    "print(\"\\n Adding new row values:\\n\", pd.concat([result, d2], ignore_index=True))  # Corrected concatenation"
   ]
  },
  {
   "cell_type": "code",
   "execution_count": null,
   "metadata": {
    "colab": {
     "base_uri": "https://localhost:8080/"
    },
    "id": "680gmtuZvCFu",
    "outputId": "20d3d886-170f-4cf2-c82b-91ce4488f24c"
   },
   "outputs": [
    {
     "name": "stdout",
     "output_type": "stream",
     "text": [
      "\n",
      " Deleting particular row:\n",
      "          EMP  ID\n",
      "0   Dharshan  80\n",
      "1     Sudeep  90\n",
      "3       Yash  56\n",
      "4  Keerthana  70\n"
     ]
    }
   ],
   "source": [
    "print(\"\\n Deleting particular row:\\n\",result.drop(2))"
   ]
  },
  {
   "cell_type": "markdown",
   "metadata": {
    "id": "fe8sK0vdvx3C"
   },
   "source": [
    "DataFrame-Functions - Pandas - 2"
   ]
  },
  {
   "cell_type": "code",
   "execution_count": null,
   "metadata": {
    "colab": {
     "base_uri": "https://localhost:8080/"
    },
    "id": "9AKYT__YybgM",
    "outputId": "d00c8838-454a-480d-ebb9-ec8fa915e1a2"
   },
   "outputs": [
    {
     "name": "stdout",
     "output_type": "stream",
     "text": [
      "DataFrame.apply fucntion:\n",
      "\n",
      "\n",
      " Original DataFrame:\n",
      "    S  R\n",
      "0  3  9\n",
      "1  3  9\n",
      "2  3  9\n",
      "3  3  9\n",
      "\n",
      " SequarerootofDataFrame:\n",
      "           S    R\n",
      "0  1.732051  3.0\n",
      "1  1.732051  3.0\n",
      "2  1.732051  3.0\n",
      "3  1.732051  3.0\n",
      "\n",
      " Sumofeachcolumn: \n",
      " S    12\n",
      "R    36\n",
      "dtype: int64\n",
      "\n",
      " Sumofeachrow:\n",
      " 0    12\n",
      "1    12\n",
      "2    12\n",
      "3    12\n",
      "dtype: int64\n"
     ]
    }
   ],
   "source": [
    "import pandas as pd\n",
    "import numpy as np\n",
    "\n",
    "print(\"DataFrame.apply fucntion:\\n\")\n",
    "info = pd.DataFrame([[3, 9]] * 4, columns=['S', 'R'])\n",
    "print(\"\\n Original DataFrame:\\n\", info)\n",
    "print(\"\\n SequarerootofDataFrame:\\n\", info.apply(np.sqrt))  # Corrected\n",
    "print(\"\\n Sumofeachcolumn: \\n\", info.apply(np.sum, axis=0))\n",
    "print(\"\\n Sumofeachrow:\\n\", info.apply(np.sum, axis=1))"
   ]
  }
 ],
 "metadata": {
  "colab": {
   "provenance": []
  },
  "kernelspec": {
   "display_name": "Python 3 (ipykernel)",
   "language": "python",
   "name": "python3"
  },
  "language_info": {
   "codemirror_mode": {
    "name": "ipython",
    "version": 3
   },
   "file_extension": ".py",
   "mimetype": "text/x-python",
   "name": "python",
   "nbconvert_exporter": "python",
   "pygments_lexer": "ipython3",
   "version": "3.11.3"
  }
 },
 "nbformat": 4,
 "nbformat_minor": 1
}
