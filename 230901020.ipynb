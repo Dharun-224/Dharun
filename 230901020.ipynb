{
 "cells": [
  {
   "cell_type": "code",
   "execution_count": 2,
   "id": "eef75d49",
   "metadata": {
    "scrolled": true
   },
   "outputs": [
    {
     "name": "stdout",
     "output_type": "stream",
     "text": [
      "One dimensional array: [10 20 30 40 50]\n"
     ]
    }
   ],
   "source": [
    "import numpy as np\n",
    "a=np.array([10,20,30,40,50])\n",
    "print(\"One dimensional array:\",a)"
   ]
  },
  {
   "cell_type": "code",
   "execution_count": 4,
   "id": "802011a7",
   "metadata": {},
   "outputs": [
    {
     "name": "stdout",
     "output_type": "stream",
     "text": [
      "Two dimensional array: [[ 10  20  30  40  50]\n",
      " [ 60  70  80  90 100]]\n"
     ]
    }
   ],
   "source": [
    "import numpy as np\n",
    "b=np.array([[10,20,30,40,50],[60,70,80,90,100]])\n",
    "print(\"Two dimensional array:\",b)"
   ]
  },
  {
   "cell_type": "code",
   "execution_count": 5,
   "id": "71ab90aa",
   "metadata": {},
   "outputs": [
    {
     "name": "stdout",
     "output_type": "stream",
     "text": [
      "\n",
      " Array with all zeros:\n",
      " [[0. 0. 0. 0. 0.]\n",
      " [0. 0. 0. 0. 0.]\n",
      " [0. 0. 0. 0. 0.]]\n"
     ]
    }
   ],
   "source": [
    "import numpy as np\n",
    "c=np.zeros((3,5))\n",
    "print(\"\\n Array with all zeros:\\n\",c)"
   ]
  },
  {
   "cell_type": "code",
   "execution_count": 6,
   "id": "1fae71c8",
   "metadata": {},
   "outputs": [
    {
     "name": "stdout",
     "output_type": "stream",
     "text": [
      "\n",
      " Random value:\n",
      " [[0.35507195 0.81209456 0.8294121 ]\n",
      " [0.77540669 0.63444027 0.34330152]\n",
      " [0.32895178 0.86875831 0.01788786]]\n"
     ]
    }
   ],
   "source": [
    "import numpy as np\n",
    "d=np.random.random((3,3))\n",
    "print(\"\\n Random value:\\n\",d)"
   ]
  },
  {
   "cell_type": "code",
   "execution_count": 8,
   "id": "ad5c4df2",
   "metadata": {},
   "outputs": [
    {
     "name": "stdout",
     "output_type": "stream",
     "text": [
      "\n",
      " Range value:\n",
      " [ 0  5 10 15 20 25 30 35 40 45 50 55 60 65 70 75 80 85 90 95]\n"
     ]
    }
   ],
   "source": [
    "import numpy  as np\n",
    "e=np.arange(0,100,5)\n",
    "print(\"\\n Range value:\\n\",e)"
   ]
  },
  {
   "cell_type": "code",
   "execution_count": 9,
   "id": "c2f0f52e",
   "metadata": {},
   "outputs": [
    {
     "name": "stdout",
     "output_type": "stream",
     "text": [
      "\n",
      " Original array:\n",
      " [[ 1  2  3  4]\n",
      " [ 5  6  7  8]\n",
      " [ 9 10 11 12]]\n",
      "\n",
      " Reshaped array [4,3]:\n",
      " [[ 1  2  3]\n",
      " [ 4  5  6]\n",
      " [ 7  8  9]\n",
      " [10 11 12]]\n"
     ]
    }
   ],
   "source": [
    "arr=np.array([[1,2,3,4],[5,6,7,8],[9,10,11,12]])\n",
    "newarr=arr.reshape((4,3))\n",
    "print(\"\\n Original array:\\n\",arr)\n",
    "print(\"\\n Reshaped array [4,3]:\\n\", newarr)"
   ]
  },
  {
   "cell_type": "code",
   "execution_count": 18,
   "id": "4287ab40",
   "metadata": {},
   "outputs": [
    {
     "name": "stdout",
     "output_type": "stream",
     "text": [
      "\n",
      " Array with all zeros\n",
      " [[0. 0. 0.]\n",
      " [0. 0. 0.]\n",
      " [0. 0. 0.]\n",
      " [0. 0. 0.]\n",
      " [0. 0. 0.]]\n",
      "\n",
      " Array with random values/n [[0.44791277 0.73017183 0.42810728]\n",
      " [0.06562999 0.2597781  0.68459939]\n",
      " [0.0828584  0.14950827 0.15020063]\n",
      " [0.31908719 0.53807832 0.96851586]\n",
      " [0.74857651 0.11209757 0.66541061]]\n",
      "\n",
      " No of dimensions: 2\n",
      "\n",
      " Strip size array \n",
      " [  0   5  10  15  20  25  30  35  40  45  50  55  60  65  70  75  80  85\n",
      "  90  95 100]\n",
      "\n",
      " Reshaped array\n",
      " [[ 1  2  3  5  6]\n",
      " [ 7  9 10 11 13]\n",
      " [14 15 17 18 19]]\n"
     ]
    }
   ],
   "source": [
    "#program 7.1\n",
    "import numpy as np\n",
    "c=np.zeros((5,3))\n",
    "print(\"\\n Array with all zeros\\n\",c)\n",
    "\n",
    "#program 7.2\n",
    "import numpy as rnp\n",
    "r=rnp.random.random((5,3))\n",
    "print(\"\\n Array with random values/n\",r)\n",
    "print(\"\\n No of dimensions:\",arr.ndim)\n",
    "\n",
    "#program7.3\n",
    "import numpy as snp\n",
    "s=snp.arange(0,105,5)\n",
    "print(\"\\n Strip size array \\n\",s)\n",
    "\n",
    "#program7.4\n",
    "arr=rnp.array([[1,2,3],[5,6,7],[9,10,11],[13,14,15],[17,18,19]])\n",
    "newarr=arr.reshape(3,5)\n",
    "print(\"\\n Reshaped array\\n\",newarr)"
   ]
  },
  {
   "cell_type": "code",
   "execution_count": 16,
   "id": "7bf5ab2c",
   "metadata": {},
   "outputs": [
    {
     "name": "stdout",
     "output_type": "stream",
     "text": [
      "Flattened array;\n",
      " [1 2 3 4 5 6 7 8 9]\n"
     ]
    }
   ],
   "source": [
    "#program8\n",
    "arr=np.array([[1,2,3],[4,5,6],[7,8,9]])\n",
    "flat=arr.flatten()\n",
    "print(\"Flattened array;\\n\",flat)"
   ]
  },
  {
   "cell_type": "code",
   "execution_count": 20,
   "id": "895a899d",
   "metadata": {},
   "outputs": [
    {
     "name": "stdout",
     "output_type": "stream",
     "text": [
      "\n",
      " No. of dimensions: 2\n"
     ]
    }
   ],
   "source": [
    "arr=np.array([[1,2,3],[4,5,6],[7,8,9]])\n",
    "print(\"\\n No. of dimensions:\",arr.ndim)"
   ]
  },
  {
   "cell_type": "code",
   "execution_count": 2,
   "id": "435ed0c2",
   "metadata": {},
   "outputs": [
    {
     "name": "stdout",
     "output_type": "stream",
     "text": [
      "\n",
      " Array element type:\n",
      " int32\n"
     ]
    }
   ],
   "source": [
    "import numpy as np\n",
    "arr=np.array([[1,2,3],[4,5,6],[7,8,9]])\n",
    "print(\"\\n Array element type:\\n\",arr.dtype)"
   ]
  },
  {
   "cell_type": "code",
   "execution_count": 6,
   "id": "022c7498",
   "metadata": {},
   "outputs": [
    {
     "name": "stdout",
     "output_type": "stream",
     "text": [
      "converted array:\n",
      "  [[1. 2. 3.]\n",
      " [4. 5. 6.]\n",
      " [7. 8. 9.]]\n",
      "converted array type:\n",
      "  float32\n"
     ]
    }
   ],
   "source": [
    "newarr=arr.astype('f')\n",
    "print(\"converted array:\\n \",newarr)\n",
    "print(\"converted array type:\\n \",newarr.dtype)"
   ]
  },
  {
   "cell_type": "code",
   "execution_count": 8,
   "id": "450ca65d",
   "metadata": {},
   "outputs": [
    {
     "name": "stdout",
     "output_type": "stream",
     "text": [
      "size of the array: 9\n"
     ]
    }
   ],
   "source": [
    "print(\"size of the array:\",arr.size)"
   ]
  },
  {
   "cell_type": "code",
   "execution_count": null,
   "id": "47cbb055",
   "metadata": {},
   "outputs": [],
   "source": []
  }
 ],
 "metadata": {
  "kernelspec": {
   "display_name": "Python 3 (ipykernel)",
   "language": "python",
   "name": "python3"
  },
  "language_info": {
   "codemirror_mode": {
    "name": "ipython",
    "version": 3
   },
   "file_extension": ".py",
   "mimetype": "text/x-python",
   "name": "python",
   "nbconvert_exporter": "python",
   "pygments_lexer": "ipython3",
   "version": "3.11.3"
  }
 },
 "nbformat": 4,
 "nbformat_minor": 5
}
