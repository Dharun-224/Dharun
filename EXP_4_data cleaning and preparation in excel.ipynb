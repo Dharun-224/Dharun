{
  "nbformat": 4,
  "nbformat_minor": 0,
  "metadata": {
    "colab": {
      "provenance": []
    },
    "kernelspec": {
      "name": "python3",
      "display_name": "Python 3"
    },
    "language_info": {
      "name": "python"
    }
  },
  "cells": [
    {
      "cell_type": "code",
      "execution_count": 1,
      "metadata": {
        "id": "x3klhORb5gk4",
        "colab": {
          "base_uri": "https://localhost:8080/"
        },
        "outputId": "8f3abe3a-917e-4922-c7e2-5e2b7531e02f"
      },
      "outputs": [
        {
          "output_type": "stream",
          "name": "stdout",
          "text": [
            "   Roll no.           Name  LICA   DLC  EM 2   T&D\n",
            "0         1       Abhinith  36.0  41.0  63.0  53.0\n",
            "1         2         Akilan  23.0  34.0  56.0  65.0\n",
            "2         3      Anulaxxmi  23.0   NaN  53.0  33.0\n",
            "3         4  Aravind Kumar  56.0  65.0   NaN  32.0\n",
            "4         5          Arjun  34.0  65.0  76.0   NaN\n",
            "5         6         Ashwin  25.0  55.0  23.0  54.0\n",
            "6         7           Arya   NaN  57.0  75.0  23.0\n",
            "7         8           Babu  75.0  54.0   NaN  43.0\n",
            "8         9  Balaganapathy  43.0   NaN  65.0  43.0\n",
            "9        10    Balamurugan  54.0  64.0  34.0  75.0\n"
          ]
        }
      ],
      "source": [
        "import pandas as pd\n",
        "pd.set_option('display.max_column',10)\n",
        "df=pd.read_excel(\"marksheet.xlsx\")\n",
        "print(df)"
      ]
    },
    {
      "cell_type": "code",
      "source": [
        "k=df.fillna(method='pad')\n",
        "print(k)\n",
        "print(\"\\nlip dated\")"
      ],
      "metadata": {
        "colab": {
          "base_uri": "https://localhost:8080/"
        },
        "id": "IKSx2gmf6KNc",
        "outputId": "a3d6cbcb-d2e9-4c86-8206-a297c1bc545e"
      },
      "execution_count": 2,
      "outputs": [
        {
          "output_type": "stream",
          "name": "stdout",
          "text": [
            "   Roll no.           Name  LICA   DLC  EM 2   T&D\n",
            "0         1       Abhinith  36.0  41.0  63.0  53.0\n",
            "1         2         Akilan  23.0  34.0  56.0  65.0\n",
            "2         3      Anulaxxmi  23.0  34.0  53.0  33.0\n",
            "3         4  Aravind Kumar  56.0  65.0  53.0  32.0\n",
            "4         5          Arjun  34.0  65.0  76.0  32.0\n",
            "5         6         Ashwin  25.0  55.0  23.0  54.0\n",
            "6         7           Arya  25.0  57.0  75.0  23.0\n",
            "7         8           Babu  75.0  54.0  75.0  43.0\n",
            "8         9  Balaganapathy  43.0  54.0  65.0  43.0\n",
            "9        10    Balamurugan  54.0  64.0  34.0  75.0\n",
            "\n",
            "lip dated\n"
          ]
        },
        {
          "output_type": "stream",
          "name": "stderr",
          "text": [
            "<ipython-input-2-c4c63c33bc6a>:1: FutureWarning: DataFrame.fillna with 'method' is deprecated and will raise in a future version. Use obj.ffill() or obj.bfill() instead.\n",
            "  k=df.fillna(method='pad')\n"
          ]
        }
      ]
    },
    {
      "cell_type": "code",
      "source": [
        "k=df.fillna(method='pad')\n",
        "print(k)\n",
        "print(\"\\n Updated line \\n\")\n",
        "k.to_excel(\"marksheet.xlsx\")"
      ],
      "metadata": {
        "colab": {
          "base_uri": "https://localhost:8080/"
        },
        "id": "Oj-hmg9J6KPx",
        "outputId": "7bbc80a6-136a-45d3-ccdd-6c82bb5d7049"
      },
      "execution_count": 3,
      "outputs": [
        {
          "output_type": "stream",
          "name": "stdout",
          "text": [
            "   Roll no.           Name  LICA   DLC  EM 2   T&D\n",
            "0         1       Abhinith  36.0  41.0  63.0  53.0\n",
            "1         2         Akilan  23.0  34.0  56.0  65.0\n",
            "2         3      Anulaxxmi  23.0  34.0  53.0  33.0\n",
            "3         4  Aravind Kumar  56.0  65.0  53.0  32.0\n",
            "4         5          Arjun  34.0  65.0  76.0  32.0\n",
            "5         6         Ashwin  25.0  55.0  23.0  54.0\n",
            "6         7           Arya  25.0  57.0  75.0  23.0\n",
            "7         8           Babu  75.0  54.0  75.0  43.0\n",
            "8         9  Balaganapathy  43.0  54.0  65.0  43.0\n",
            "9        10    Balamurugan  54.0  64.0  34.0  75.0\n",
            "\n",
            " Updated line \n",
            "\n"
          ]
        },
        {
          "output_type": "stream",
          "name": "stderr",
          "text": [
            "<ipython-input-3-96013e7398dc>:1: FutureWarning: DataFrame.fillna with 'method' is deprecated and will raise in a future version. Use obj.ffill() or obj.bfill() instead.\n",
            "  k=df.fillna(method='pad')\n"
          ]
        }
      ]
    },
    {
      "cell_type": "code",
      "source": [
        "print(\"\\n Drop NaN row: \\n\")\n",
        "df=pd.read_excel(\"marksheet.xlsx\")\n",
        "print(df)\n",
        "x=df.dropna()\n",
        "print(x)\n",
        "x.to_excel(\"sheetzero.xlsx\")"
      ],
      "metadata": {
        "colab": {
          "base_uri": "https://localhost:8080/"
        },
        "id": "9aBH-Pjk6KVO",
        "outputId": "673f9ee5-d963-41c6-f5e5-b7f7c132cd5f"
      },
      "execution_count": 12,
      "outputs": [
        {
          "output_type": "stream",
          "name": "stdout",
          "text": [
            "\n",
            " Drop NaN row: \n",
            "\n",
            "   Unnamed: 0.1  Unnamed: 0  Roll no.           Name  LICA  DLC  EM 2  T&D\n",
            "0             0           0         1       Abhinith    36   41    63   53\n",
            "1             1           1         2         Akilan    23   34    56   65\n",
            "2             2           2         3      Anulaxxmi    23   34    53   33\n",
            "3             3           3         4  Aravind Kumar    56   65    53   32\n",
            "4             4           4         5          Arjun    34   65    76   32\n",
            "5             5           5         6         Ashwin    25   55    23   54\n",
            "6             6           6         7           Arya    25   57    75   23\n",
            "7             7           7         8           Babu    75   54    75   43\n",
            "8             8           8         9  Balaganapathy    43   54    65   43\n",
            "9             9           9        10    Balamurugan    54   64    34   75\n",
            "   Unnamed: 0.1  Unnamed: 0  Roll no.           Name  LICA  DLC  EM 2  T&D\n",
            "0             0           0         1       Abhinith    36   41    63   53\n",
            "1             1           1         2         Akilan    23   34    56   65\n",
            "2             2           2         3      Anulaxxmi    23   34    53   33\n",
            "3             3           3         4  Aravind Kumar    56   65    53   32\n",
            "4             4           4         5          Arjun    34   65    76   32\n",
            "5             5           5         6         Ashwin    25   55    23   54\n",
            "6             6           6         7           Arya    25   57    75   23\n",
            "7             7           7         8           Babu    75   54    75   43\n",
            "8             8           8         9  Balaganapathy    43   54    65   43\n",
            "9             9           9        10    Balamurugan    54   64    34   75\n"
          ]
        }
      ]
    },
    {
      "cell_type": "code",
      "source": [
        "print(\"\\n Replace values:\\n\")\n",
        "n=pd.read_excel(\"marksheet.xlsx\")\n",
        "print(n)\n",
        "y=n.replace({88:90})\n",
        "print(y)\n",
        "y.to_excel(\"marksheet.xlsx\")"
      ],
      "metadata": {
        "colab": {
          "base_uri": "https://localhost:8080/"
        },
        "id": "ukHBZqAs6KXm",
        "outputId": "ed12f08f-5449-4948-82dc-c52d0beccdcf"
      },
      "execution_count": 13,
      "outputs": [
        {
          "output_type": "stream",
          "name": "stdout",
          "text": [
            "\n",
            " Replace values:\n",
            "\n",
            "   Unnamed: 0.1  Unnamed: 0  Roll no.           Name  LICA  DLC  EM 2  T&D\n",
            "0             0           0         1       Abhinith    36   41    63   53\n",
            "1             1           1         2         Akilan    23   34    56   65\n",
            "2             2           2         3      Anulaxxmi    23   34    53   33\n",
            "3             3           3         4  Aravind Kumar    56   65    53   32\n",
            "4             4           4         5          Arjun    34   65    76   32\n",
            "5             5           5         6         Ashwin    25   55    23   54\n",
            "6             6           6         7           Arya    25   57    75   23\n",
            "7             7           7         8           Babu    75   54    75   43\n",
            "8             8           8         9  Balaganapathy    43   54    65   43\n",
            "9             9           9        10    Balamurugan    54   64    34   75\n",
            "   Unnamed: 0.1  Unnamed: 0  Roll no.           Name  LICA  DLC  EM 2  T&D\n",
            "0             0           0         1       Abhinith    36   41    63   53\n",
            "1             1           1         2         Akilan    23   34    56   65\n",
            "2             2           2         3      Anulaxxmi    23   34    53   33\n",
            "3             3           3         4  Aravind Kumar    56   65    53   32\n",
            "4             4           4         5          Arjun    34   65    76   32\n",
            "5             5           5         6         Ashwin    25   55    23   54\n",
            "6             6           6         7           Arya    25   57    75   23\n",
            "7             7           7         8           Babu    75   54    75   43\n",
            "8             8           8         9  Balaganapathy    43   54    65   43\n",
            "9             9           9        10    Balamurugan    54   64    34   75\n"
          ]
        }
      ]
    },
    {
      "cell_type": "code",
      "source": [
        "df=pd.read_excel(\"marksheet.xlsx\")\n",
        "print(df)\n",
        "print(\"\\n Extract using isin() function: \\n\")\n",
        "new = df['LICA'].isin([90])\n",
        "print(df[new])\n",
        "\n"
      ],
      "metadata": {
        "colab": {
          "base_uri": "https://localhost:8080/"
        },
        "id": "VzWTgeZ8_anD",
        "outputId": "415e3b4f-033f-43c2-9967-90b037a110e0"
      },
      "execution_count": 20,
      "outputs": [
        {
          "output_type": "stream",
          "name": "stdout",
          "text": [
            "   Unnamed: 0.2  Unnamed: 0.1  Unnamed: 0  Roll no.           Name  LICA  DLC  \\\n",
            "0             0             0           0         1       Abhinith    36   41   \n",
            "1             1             1           1         2         Akilan    23   34   \n",
            "2             2             2           2         3      Anulaxxmi    23   34   \n",
            "3             3             3           3         4  Aravind Kumar    56   65   \n",
            "4             4             4           4         5          Arjun    34   65   \n",
            "5             5             5           5         6         Ashwin    25   55   \n",
            "6             6             6           6         7           Arya    25   57   \n",
            "7             7             7           7         8           Babu    75   54   \n",
            "8             8             8           8         9  Balaganapathy    43   54   \n",
            "9             9             9           9        10    Balamurugan    54   64   \n",
            "\n",
            "   EM 2  T&D  \n",
            "0    63   53  \n",
            "1    56   65  \n",
            "2    53   33  \n",
            "3    53   32  \n",
            "4    76   32  \n",
            "5    23   54  \n",
            "6    75   23  \n",
            "7    75   43  \n",
            "8    65   43  \n",
            "9    34   75  \n",
            "\n",
            " Extract using isin() function: \n",
            "\n",
            "Empty DataFrame\n",
            "Columns: [Unnamed: 0.2, Unnamed: 0.1, Unnamed: 0, Roll no., Name, LICA, DLC, EM 2, T&D]\n",
            "Index: []\n"
          ]
        }
      ]
    }
  ]
}
