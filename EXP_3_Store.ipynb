{
 "cells": [
  {
   "cell_type": "code",
   "execution_count": 2,
   "id": "c07aa872",
   "metadata": {},
   "outputs": [
    {
     "name": "stdout",
     "output_type": "stream",
     "text": [
      "       a  b  c\n",
      "one    1  2  3\n",
      "two    4  5  6\n",
      "three  7  8  9\n"
     ]
    }
   ],
   "source": [
    "#store\n",
    "\n",
    "import pandas as pd\n",
    "df=pd.DataFrame([[1,2,3],[4,5,6],[7,8,9]],index=['one','two','three'],columns=['a','b','c'])\n",
    "print(df)\n",
    "df.to_excel(\"E:\\\\dharun.xlsx\")\n",
    "df.to_excel(\"E:\\\\sudhan.xlsx\")"
   ]
  },
  {
   "cell_type": "code",
   "execution_count": 3,
   "id": "72489dee",
   "metadata": {},
   "outputs": [],
   "source": [
    "df=pd.DataFrame([[10,20,30,],[40,50,60],[70,80,90]],index=['four','five','six'],columns=['x','y','z'])\n",
    "df.to_excel(\"E:dharun.xlsx\",sheet_name=\"Marks\")"
   ]
  },
  {
   "cell_type": "code",
   "execution_count": 5,
   "id": "b57fb6ac",
   "metadata": {},
   "outputs": [],
   "source": [
    "x=pd.read_excel(\"E:\\\\dharun.xlsx\")\n",
    "y=pd.read_excel(\"E:\\\\sudhan.xlsx\")\n",
    "#z=x.merge(y)\n",
    "z=pd.concat([x,y])\n",
    "z.to_excel(\"E:\\\\arya.xlsx\")"
   ]
  },
  {
   "cell_type": "code",
   "execution_count": null,
   "id": "267cc10f",
   "metadata": {},
   "outputs": [],
   "source": []
  },
  {
   "cell_type": "code",
   "execution_count": null,
   "id": "e5375705",
   "metadata": {},
   "outputs": [],
   "source": []
  }
 ],
 "metadata": {
  "kernelspec": {
   "display_name": "Python 3 (ipykernel)",
   "language": "python",
   "name": "python3"
  },
  "language_info": {
   "codemirror_mode": {
    "name": "ipython",
    "version": 3
   },
   "file_extension": ".py",
   "mimetype": "text/x-python",
   "name": "python",
   "nbconvert_exporter": "python",
   "pygments_lexer": "ipython3",
   "version": "3.11.3"
  }
 },
 "nbformat": 4,
 "nbformat_minor": 5
}
