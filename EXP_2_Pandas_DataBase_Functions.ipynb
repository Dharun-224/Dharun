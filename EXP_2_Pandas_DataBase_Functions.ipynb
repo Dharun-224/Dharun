{
  "nbformat": 4,
  "nbformat_minor": 0,
  "metadata": {
    "colab": {
      "provenance": []
    },
    "kernelspec": {
      "name": "python3",
      "display_name": "Python 3"
    },
    "language_info": {
      "name": "python"
    }
  },
  "cells": [
    {
      "cell_type": "code",
      "execution_count": 1,
      "metadata": {
        "colab": {
          "base_uri": "https://localhost:8080/"
        },
        "id": "cggFh62Ciq4T",
        "outputId": "267a354f-5bd5-46ef-8a89-97dc7a074c13"
      },
      "outputs": [
        {
          "output_type": "stream",
          "name": "stdout",
          "text": [
            "   x  y  z\n",
            "0  2  4  6\n",
            "1  1  3  5\n",
            "2  5  8  7\n",
            "     x  y  z\n",
            "min  1  3  5\n",
            "max  5  8  7\n",
            "     0   1\n",
            "0  sai  88\n",
            "1  jai  70\n"
          ]
        }
      ],
      "source": [
        "import pandas as pd\n",
        "import numpy as np\n",
        "info=pd.DataFrame([[2,4,6],[1,3,5],[5,8,7]],columns=['x','y','z'])\n",
        "print(info)\n",
        "print(info.agg(['min','max']))\n",
        "d2=pd.DataFrame([['sai',88],['jai',70]])\n",
        "column=['Emp','ID']\n",
        "print(d2)"
      ]
    },
    {
      "cell_type": "code",
      "source": [
        "d2['Age']=[20,18]\n",
        "print(d2)"
      ],
      "metadata": {
        "colab": {
          "base_uri": "https://localhost:8080/"
        },
        "id": "suZyw6AwkrBy",
        "outputId": "9bac32ad-1c12-466e-e4d3-9b57218ac807"
      },
      "execution_count": 2,
      "outputs": [
        {
          "output_type": "stream",
          "name": "stdout",
          "text": [
            "     0   1  Age\n",
            "0  sai  88   20\n",
            "1  jai  70   18\n"
          ]
        }
      ]
    },
    {
      "cell_type": "markdown",
      "source": [
        "d=d2.assign(Sex=['Male','Male'])\n",
        "print(d)"
      ],
      "metadata": {
        "id": "YPmrS1uvk_Sy"
      }
    },
    {
      "cell_type": "code",
      "source": [
        "#sorting\n",
        "info=pd.DataFrame(np.random.randn(5,2),index=[3,2,0,4,1],columns=['col3','col4'])\n",
        "print(info)"
      ],
      "metadata": {
        "colab": {
          "base_uri": "https://localhost:8080/"
        },
        "id": "dgxsIUmtlZzI",
        "outputId": "5ddde744-2628-422f-f33b-10ed3b2a3fd8"
      },
      "execution_count": 12,
      "outputs": [
        {
          "output_type": "stream",
          "name": "stdout",
          "text": [
            "       col3      col4\n",
            "3 -0.427248  0.146250\n",
            "2 -0.389845  0.659806\n",
            "0  2.791322 -0.833440\n",
            "4  0.106317  0.173325\n",
            "1 -0.187771 -0.562490\n"
          ]
        }
      ]
    },
    {
      "cell_type": "code",
      "source": [
        "info2=info.sort_index()\n",
        "print(info2)"
      ],
      "metadata": {
        "colab": {
          "base_uri": "https://localhost:8080/"
        },
        "id": "Xgb_hdOumD_6",
        "outputId": "dcc53c7c-a767-42c5-d93c-3a7c3cdb0bb3"
      },
      "execution_count": 13,
      "outputs": [
        {
          "output_type": "stream",
          "name": "stdout",
          "text": [
            "       col3      col4\n",
            "0  2.791322 -0.833440\n",
            "1 -0.187771 -0.562490\n",
            "2 -0.389845  0.659806\n",
            "3 -0.427248  0.146250\n",
            "4  0.106317  0.173325\n"
          ]
        }
      ]
    },
    {
      "cell_type": "code",
      "source": [
        "info3=info.sort_values(by='col3')\n",
        "print(info3)"
      ],
      "metadata": {
        "colab": {
          "base_uri": "https://localhost:8080/"
        },
        "id": "PLM8L5j_nHmi",
        "outputId": "64ce7136-e9bd-4593-f7dd-34f83fa7fa00"
      },
      "execution_count": 14,
      "outputs": [
        {
          "output_type": "stream",
          "name": "stdout",
          "text": [
            "       col3      col4\n",
            "3 -0.427248  0.146250\n",
            "2 -0.389845  0.659806\n",
            "1 -0.187771 -0.562490\n",
            "4  0.106317  0.173325\n",
            "0  2.791322 -0.833440\n"
          ]
        }
      ]
    },
    {
      "cell_type": "code",
      "source": [
        "left=pd.DataFrame({'id':[1,2,3,4],'Name':['arya','lathish','dharun','sudhan'],'sub':['1','2','3','4']})\n",
        "right=pd.DataFrame({'id':[1,3,4,5],'Age':[20,21,22,23],'Add':['nah','id','win','D']})\n",
        "merge=pd.merge(left,right,on='id')\n",
        "print(merge)"
      ],
      "metadata": {
        "colab": {
          "base_uri": "https://localhost:8080/"
        },
        "id": "0whhwPSjqU_n",
        "outputId": "603f2356-f0ab-49b6-ccbd-dd825b557df1"
      },
      "execution_count": 16,
      "outputs": [
        {
          "output_type": "stream",
          "name": "stdout",
          "text": [
            "   id    Name sub  Age  Add\n",
            "0   1    arya   1   20  nah\n",
            "1   3  dharun   3   21   id\n",
            "2   4  sudhan   4   22  win\n"
          ]
        }
      ]
    }
  ]
}
