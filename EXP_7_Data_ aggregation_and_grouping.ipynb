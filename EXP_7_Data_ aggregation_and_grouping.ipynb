{
 "cells": [
  {
   "cell_type": "code",
   "execution_count": 1,
   "id": "009a3e01",
   "metadata": {},
   "outputs": [
    {
     "name": "stdout",
     "output_type": "stream",
     "text": [
      "\n",
      " orginal DataFrame\n",
      "          A      B  C  D\n",
      "0      Abi    one  6  0\n",
      "1     Babu    two  5  3\n",
      "2  Charles  three  2  4\n",
      "3   Darwin    one  6  6\n",
      "4      Abi    two  6  3\n",
      "5  Charles  three  3  2\n",
      "6   Darwin    one  1  6\n"
     ]
    }
   ],
   "source": [
    "import pandas as pd\n",
    "import numpy as np\n",
    "df=pd.DataFrame({'A':['Abi','Babu','Charles','Darwin','Abi','Charles','Darwin'],'B':['one','two','three','one','two','three','one'],'C':np.random.randint(7,size=7),'D':np.random.randint(7,size=7)})\n",
    "print(\"\\n orginal DataFrame\\n\",df)"
   ]
  },
  {
   "cell_type": "code",
   "execution_count": 8,
   "id": "0bb438c3",
   "metadata": {},
   "outputs": [
    {
     "name": "stdout",
     "output_type": "stream",
     "text": [
      "\n",
      " Original dataframe\n",
      "          A      B  C  D\n",
      "0      Abi    one  6  0\n",
      "1     Babu    two  5  3\n",
      "2  Charles  three  2  4\n",
      "3   Darwin    one  6  6\n",
      "4      Abi    two  6  3\n",
      "5  Charles  three  3  2\n",
      "6   Darwin    one  1  6\n",
      "\n",
      " Grouped dataframe with one column sum\n",
      "          A      B  C\n",
      "0      Abi    one  6\n",
      "1      Abi    two  6\n",
      "2     Babu    two  5\n",
      "3  Charles  three  5\n",
      "4   Darwin    one  7\n"
     ]
    }
   ],
   "source": [
    "df1 = df.groupby(['A', 'B'], as_index=False)['C'].sum()\n",
    "print(\"\\n Original dataframe\\n\", df)\n",
    "print(\"\\n Grouped dataframe with one column sum\\n\", df1)"
   ]
  },
  {
   "cell_type": "code",
   "execution_count": 7,
   "id": "1a976ec5",
   "metadata": {},
   "outputs": [
    {
     "name": "stdout",
     "output_type": "stream",
     "text": [
      "\n",
      "Grouped dataframe with 'C' summed:\n",
      "          A      B  C\n",
      "0      Abi    one  6\n",
      "1      Abi    two  6\n",
      "2     Babu    two  5\n",
      "3  Charles  three  5\n",
      "4   Darwin    one  7\n",
      "\n",
      "Grouped dataframe with 'C' and 'D' summed:\n",
      "          A      B  C   D\n",
      "0      Abi    one  6   0\n",
      "1      Abi    two  6   3\n",
      "2     Babu    two  5   3\n",
      "3  Charles  three  5   6\n",
      "4   Darwin    one  7  12\n"
     ]
    }
   ],
   "source": [
    "df2 = df.groupby(['A', 'B'], as_index=False)['C'].sum()\n",
    "df3 = df.groupby(['A', 'B'], as_index=False)[['C', 'D']].sum()\n",
    "print(\"\\nGrouped dataframe with 'C' summed:\\n\", df2)\n",
    "print(\"\\nGrouped dataframe with 'C' and 'D' summed:\\n\", df3)"
   ]
  },
  {
   "cell_type": "code",
   "execution_count": 13,
   "id": "9a565a7a",
   "metadata": {},
   "outputs": [
    {
     "name": "stdout",
     "output_type": "stream",
     "text": [
      "  Category  Sales  Profit\n",
      "0        A    100      10\n",
      "1        B    200      15\n",
      "2        C    150      20\n",
      "3        A    150      25\n",
      "4        B    130      30\n",
      "5        C    200      15\n",
      "         Sales        Profit      \n",
      "           sum   mean    sum  mean\n",
      "Category                          \n",
      "A          250  125.0     35  17.5\n",
      "B          330  165.0     45  22.5\n",
      "C          350  175.0     35  17.5\n"
     ]
    }
   ],
   "source": [
    "import pandas as pd\n",
    "df=pd.DataFrame({'Category':['A','B','C','A','B','C'],'Sales':[100,200,150,150,130,200],'Profit':[10,15,20,25,30,15]})\n",
    "print(df)  \n",
    "df1=df.groupby(\"Category\").agg({\"Sales\":[\"sum\",\"mean\"],\"Profit\":[\"sum\",\"mean\"]})\n",
    "print(df1)"
   ]
  },
  {
   "cell_type": "code",
   "execution_count": null,
   "id": "d92c7d77",
   "metadata": {},
   "outputs": [],
   "source": []
  }
 ],
 "metadata": {
  "kernelspec": {
   "display_name": "Python 3 (ipykernel)",
   "language": "python",
   "name": "python3"
  },
  "language_info": {
   "codemirror_mode": {
    "name": "ipython",
    "version": 3
   },
   "file_extension": ".py",
   "mimetype": "text/x-python",
   "name": "python",
   "nbconvert_exporter": "python",
   "pygments_lexer": "ipython3",
   "version": "3.11.5"
  }
 },
 "nbformat": 4,
 "nbformat_minor": 5
}
