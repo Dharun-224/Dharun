{
 "cells": [
  {
   "cell_type": "code",
   "execution_count": 10,
   "id": "c7317461",
   "metadata": {},
   "outputs": [],
   "source": [
    "f=open(\"E:/dharun.txt\",\"w\")\n",
    "f.write(\"Wake up early\\n\")\n",
    "f.write(\"Read daily\\n\")\n",
    "f.write(\"Pray to God\\n\")\n",
    "f.close()"
   ]
  },
  {
   "cell_type": "code",
   "execution_count": 12,
   "id": "fa608981",
   "metadata": {},
   "outputs": [
    {
     "name": "stdout",
     "output_type": "stream",
     "text": [
      "Wake up early\n",
      "\n",
      "Read daily\n",
      "\n",
      "Pray to God\n",
      "\n"
     ]
    }
   ],
   "source": [
    "a=open(\"E:/dharun.txt\",\"r\")\n",
    "print(a.readline())\n",
    "print(a.readline())\n",
    "print(a.readline())\n",
    "a.close()"
   ]
  },
  {
   "cell_type": "code",
   "execution_count": 15,
   "id": "71e6fb1d",
   "metadata": {},
   "outputs": [
    {
     "name": "stdout",
     "output_type": "stream",
     "text": [
      "Wake up early\n",
      "Read daily\n",
      "Pray to God\n",
      "Help others\n",
      "Be smart\n",
      "Help others\n",
      "Be smart\n",
      "Help others\n",
      "Be smart\n",
      "\n"
     ]
    }
   ],
   "source": [
    "b=open(\"E:/dharun.txt\",\"a\")\n",
    "b.write(\"Help others\\n\")\n",
    "b.write(\"Be smart\\n\")\n",
    "b.close()\n",
    "c=open(\"E:/dharun.txt\",\"r\")\n",
    "print(c.read())\n",
    "c.close()"
   ]
  },
  {
   "cell_type": "code",
   "execution_count": 17,
   "id": "f594d2db",
   "metadata": {},
   "outputs": [
    {
     "name": "stdout",
     "output_type": "stream",
     "text": [
      "['Wake up early\\n', 'Read daily\\n', 'Pray to God\\n', 'Help others\\n', 'Be smart\\n', 'Help others\\n', 'Be smart\\n', 'Help others\\n', 'Be smart\\n']\n"
     ]
    }
   ],
   "source": [
    "with open(\"E:/dharun.txt\",\"r\")as file:\n",
    " lines=file.readlines()\n",
    " print(lines)"
   ]
  },
  {
   "cell_type": "code",
   "execution_count": 19,
   "id": "cf1432c2",
   "metadata": {},
   "outputs": [
    {
     "name": "stdout",
     "output_type": "stream",
     "text": [
      "London\n"
     ]
    }
   ],
   "source": [
    "import json\n",
    "X='{\"name\":\"dharun\",\"age\":20,\"city\":\"London\"}'\n",
    "y=json.loads(X)\n",
    "print(y[\"city\"])"
   ]
  },
  {
   "cell_type": "code",
   "execution_count": 21,
   "id": "e3edd16b",
   "metadata": {},
   "outputs": [
    {
     "name": "stdout",
     "output_type": "stream",
     "text": [
      "\"{\\\"name\\\":\\\"dharun\\\",\\\"age\\\":20,\\\"city\\\":\\\"London\\\"}\"\n"
     ]
    }
   ],
   "source": [
    "X='{\"name\":\"dharun\",\"age\":20,\"city\":\"London\"}'\n",
    "y=json.dumps(X)\n",
    "print(y)"
   ]
  }
 ],
 "metadata": {
  "kernelspec": {
   "display_name": "Python 3 (ipykernel)",
   "language": "python",
   "name": "python3"
  },
  "language_info": {
   "codemirror_mode": {
    "name": "ipython",
    "version": 3
   },
   "file_extension": ".py",
   "mimetype": "text/x-python",
   "name": "python",
   "nbconvert_exporter": "python",
   "pygments_lexer": "ipython3",
   "version": "3.11.3"
  }
 },
 "nbformat": 4,
 "nbformat_minor": 5
}
